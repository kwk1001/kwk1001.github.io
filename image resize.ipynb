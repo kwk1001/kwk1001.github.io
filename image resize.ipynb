{
 "cells": [
  {
   "cell_type": "code",
   "execution_count": null,
   "metadata": {},
   "outputs": [
    {
     "name": "stdout",
     "output_type": "stream",
     "text": [
      "正在处理: 1F Plan.jpg\n",
      "完成: 1F Plan.jpg\n",
      "正在处理: 2F Plan.jpg\n",
      "完成: 2F Plan.jpg\n",
      "正在处理: 3F Plan.jpg\n",
      "完成: 3F Plan.jpg\n",
      "正在处理: 4F&5F Plan.jpg\n",
      "完成: 4F&5F Plan.jpg\n",
      "正在处理: Concept.png\n",
      "完成: Concept.png\n",
      "正在处理: Function Explosion.jpg\n"
     ]
    },
    {
     "name": "stderr",
     "output_type": "stream",
     "text": [
      "C:\\Users\\Kwk10\\AppData\\Local\\Temp\\ipykernel_69828\\2113057283.py:30: DeprecationWarning: ANTIALIAS is deprecated and will be removed in Pillow 10 (2023-07-01). Use LANCZOS or Resampling.LANCZOS instead.\n",
      "  img = img.resize((target_width, target_height), Image.ANTIALIAS)\n"
     ]
    },
    {
     "name": "stdout",
     "output_type": "stream",
     "text": [
      "完成: Function Explosion.jpg\n",
      "正在处理: Model1.jpg\n",
      "完成: Model1.jpg\n",
      "正在处理: Model2.jpg\n",
      "完成: Model2.jpg\n",
      "正在处理: Persepctive0.jpg\n",
      "完成: Persepctive0.jpg\n",
      "正在处理: Persepctive1.jpg\n",
      "完成: Persepctive1.jpg\n",
      "正在处理: Persepctive2.jpg\n",
      "完成: Persepctive2.jpg\n",
      "正在处理: Persepctive3.jpg\n",
      "完成: Persepctive3.jpg\n",
      "正在处理: Persepctive4.jpg\n",
      "完成: Persepctive4.jpg\n",
      "正在处理: Persepctive5.jpg\n",
      "完成: Persepctive5.jpg\n",
      "正在处理: Persepctive6.jpg\n",
      "完成: Persepctive6.jpg\n",
      "正在处理: Structure.jpg\n",
      "完成: Structure.jpg\n",
      "正在处理: WeightLoadingTest.jpg\n",
      "完成: WeightLoadingTest.jpg\n"
     ]
    }
   ],
   "source": [
    "import os\n",
    "from PIL import Image\n",
    "\n",
    "def resize_image(image_path, output_path, target_width=None, target_height=None, quality=100):\n",
    "    \"\"\" \n",
    "    根据指定的宽度或高度缩放图像，并保持原始的长宽比。\n",
    "    :param image_path: 源图像文件路径\n",
    "    :param output_path: 输出图像文件路径\n",
    "    :param target_width: 目标宽度 (可选)\n",
    "    :param target_height: 目标高度 (可选)\n",
    "    :param quality: 输出图像质量，范围从1到100 (默认100)\n",
    "    \"\"\"\n",
    "    with Image.open(image_path) as img:\n",
    "        original_width, original_height = img.size\n",
    "        \n",
    "        # 保持原始长宽比，计算目标尺寸\n",
    "        if target_width and not target_height:\n",
    "            # 按照宽度缩放\n",
    "            ratio = target_width / float(original_width)\n",
    "            target_height = int(original_height * ratio)\n",
    "        elif target_height and not target_width:\n",
    "            # 按照高度缩放\n",
    "            ratio = target_height / float(original_height)\n",
    "            target_width = int(original_width * ratio)\n",
    "        else:\n",
    "            # 如果两个参数都指定，则按宽度或高度中较小的一边进行缩放\n",
    "            raise ValueError(\"必须指定宽度或高度，但不能同时指定宽度和高度。\")\n",
    "        \n",
    "        # 对图像进行缩放\n",
    "        img = img.resize((target_width, target_height), Image.ANTIALIAS)\n",
    "        \n",
    "        # 确保保存图像时保持较高质量\n",
    "        img.save(output_path, quality=quality)\n",
    "\n",
    "def resize_images_in_folder(folder_path, target_width=None, target_height=None, output_folder=None, quality=100):\n",
    "    \"\"\" \n",
    "    缩放文件夹中所有图像，保持长宽比。\n",
    "    :param folder_path: 图像文件夹路径\n",
    "    :param target_width: 目标宽度 (可选)\n",
    "    :param target_height: 目标高度 (可选)\n",
    "    :param output_folder: 输出文件夹 (可选)，如果没有指定，默认在原文件夹创建\n",
    "    :param quality: 输出图像质量，范围从1到100 (默认95)\n",
    "    \"\"\"\n",
    "    if output_folder is None:\n",
    "        output_folder = folder_path  # 如果没有指定输出文件夹，默认保存在源文件夹中\n",
    "    \n",
    "    # 确保输出文件夹存在\n",
    "    if not os.path.exists(output_folder):\n",
    "        os.makedirs(output_folder)\n",
    "    \n",
    "    # 遍历文件夹中的所有文件\n",
    "    for filename in os.listdir(folder_path):\n",
    "        file_path = os.path.join(folder_path, filename)\n",
    "        \n",
    "        # 如果是图像文件（这里以.jpg和.png为例）\n",
    "        if filename.lower().endswith(('.png', '.jpg', '.jpeg')):\n",
    "            output_path = os.path.join(output_folder, filename)\n",
    "            print(f\"正在处理: {filename}\")\n",
    "            try:\n",
    "                resize_image(file_path, output_path, target_width, target_height, quality)\n",
    "                print(f\"完成: {filename}\")\n",
    "            except Exception as e:\n",
    "                print(f\"无法处理 {filename}: {e}\")\n",
    "\n",
    "# 示例：将文件夹中的所有图像缩放到目标宽度 800，按比例调整高度\n",
    "folder_path = './projects/water/thumb'  # 替换为你的文件夹路径\n",
    "# resize_images_in_folder(folder_path, target_width=800)\n"
   ]
  },
  {
   "cell_type": "code",
   "execution_count": 7,
   "metadata": {},
   "outputs": [
    {
     "name": "stderr",
     "output_type": "stream",
     "text": [
      "C:\\Users\\Kwk10\\AppData\\Local\\Temp\\ipykernel_69828\\2113057283.py:30: DeprecationWarning: ANTIALIAS is deprecated and will be removed in Pillow 10 (2023-07-01). Use LANCZOS or Resampling.LANCZOS instead.\n",
      "  img = img.resize((target_width, target_height), Image.ANTIALIAS)\n"
     ]
    }
   ],
   "source": [
    "image_path = './projects/parcel/thumb/Cover2.jpg'\n",
    "resize_image(image_path,image_path,target_width=800)"
   ]
  }
 ],
 "metadata": {
  "kernelspec": {
   "display_name": "shap",
   "language": "python",
   "name": "python3"
  },
  "language_info": {
   "codemirror_mode": {
    "name": "ipython",
    "version": 3
   },
   "file_extension": ".py",
   "mimetype": "text/x-python",
   "name": "python",
   "nbconvert_exporter": "python",
   "pygments_lexer": "ipython3",
   "version": "3.8.17"
  }
 },
 "nbformat": 4,
 "nbformat_minor": 2
}
